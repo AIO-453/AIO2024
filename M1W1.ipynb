{
  "nbformat": 4,
  "nbformat_minor": 0,
  "metadata": {
    "colab": {
      "provenance": [],
      "collapsed_sections": [
        "UOr0LmjjgaJv",
        "D_781UHSx1Y-",
        "rK9pFKHr2gm3",
        "VyE7dIhKB1np"
      ]
    },
    "kernelspec": {
      "name": "python3",
      "display_name": "Python 3"
    },
    "language_info": {
      "name": "python"
    }
  },
  "cells": [
    {
      "cell_type": "markdown",
      "source": [
        "## I. Câu hỏi tự luận"
      ],
      "metadata": {
        "id": "2qgBBt5VByCS"
      }
    },
    {
      "cell_type": "markdown",
      "source": [
        "# 1. Viết function thực hiện đánh giá classification model bằng F1-Score."
      ],
      "metadata": {
        "id": "UOr0LmjjgaJv"
      }
    },
    {
      "cell_type": "code",
      "source": [
        "import numpy as np\n",
        "import math\n",
        "import numbers\n",
        "\n",
        "def Precision(TP,FP):\n",
        "    return TP/(TP+FP)\n",
        "\n",
        "def Recall(TP,FN):\n",
        "    return TP/(TP+FN)\n",
        "\n",
        "def F1_score(TP,FP,FN):\n",
        "    return 2*TP/(2*TP+FP+FN)\n",
        "\n",
        "def exercise(TP,FP,FN):\n",
        "  seed = [[TP,FP,FN],\n",
        "          ['TP','FP','FN'],\n",
        "          [\"\",\"\",\"\"],  # int\n",
        "          [\"\",\"\",\"\"],] # x<=0\n",
        "  for i in range(3):\n",
        "    if not isinstance(seed[0][i], int):\n",
        "      seed[2][i] = seed[1][i]\n",
        "    if seed[0][i]<=0:\n",
        "      seed[3][i]= seed[1][i]\n",
        "  if seed[2] == [\"\",\"\",\"\"] and seed[3] == [\"\",\"\",\"\"]:\n",
        "    return print(f'Precision is {Precision(TP,FP)} \\nrecall is {Recall(TP,FN)} \\nF1-score is {F1_score(TP,FP,FN)}')\n",
        "  else:\n",
        "    if seed[2] != [\"\",\"\",\"\"]:\n",
        "      try:\n",
        "        seed[2].pop(seed[2].index(\"\"))\n",
        "        string1 = ', '.join([str(elem) for elem in seed[2]])\n",
        "        string1 = string1[2:] if string1[0] == ',' else string1\n",
        "        string1 = string1[:-2] if string1[-2] == ',' else string1\n",
        "        print(f\"{string1} must be int \\n\")\n",
        "      except:\n",
        "        string1 = ', '.join([str(elem) for elem in seed[2]])\n",
        "        string1 = string1[2:] if string1[0] == ',' else string1\n",
        "        string1 = string1[:-2] if string1[-2] == ',' else string1\n",
        "        print(f\"{string1} must be int \\n\")\n",
        "    if seed[3] != [\"\",\"\",\"\"]:\n",
        "      try:\n",
        "        seed[3].pop(seed[3].index(\"\"))\n",
        "        string2 = ', '.join([str(elem) for elem in seed[3]])\n",
        "        string2 = string2[2:] if string2[0] == ',' else string2\n",
        "        string2 = string2[:-2] if string2[-2] == ',' else string2\n",
        "        print(f\"{string2} must be great than zero \\n\")\n",
        "      except:\n",
        "        string2 = ', '.join([str(elem) for elem in seed[3]])\n",
        "        string2 = string2[2:] if string2[0] == ',' else string2\n",
        "        string2 = string2[:-2] if string2[-2] == ',' else string2\n",
        "        print(f\"{string2} must be great than zero \\n\")\n"
      ],
      "metadata": {
        "id": "rz2EikyDgeBB"
      },
      "execution_count": 2,
      "outputs": []
    },
    {
      "cell_type": "code",
      "source": [
        "TP=0\n",
        "FP=0.2\n",
        "FN=0.6\n",
        "\n",
        "exercise(TP,FP,FN)"
      ],
      "metadata": {
        "colab": {
          "base_uri": "https://localhost:8080/"
        },
        "id": "uESqhpxvxtu6",
        "outputId": "47f74e89-5c93-4992-8882-376c38cd1086"
      },
      "execution_count": 3,
      "outputs": [
        {
          "output_type": "stream",
          "name": "stdout",
          "text": [
            "FP, FN must be int \n",
            "\n",
            "TP must be great than zero \n",
            "\n"
          ]
        }
      ]
    },
    {
      "cell_type": "markdown",
      "source": [
        "# 2. Viết function mô phỏng theo 3 activation function."
      ],
      "metadata": {
        "id": "D_781UHSx1Y-"
      }
    },
    {
      "cell_type": "code",
      "source": [
        "# sigmoid\n",
        "def sigmoid_func(x):\n",
        "  return 1/(1+math.exp(-x))\n",
        "\n",
        "def reLU_func(x):\n",
        "  return x if x>0 else 0\n",
        "\n",
        "def elu_func(x, a=0.11):\n",
        "  return x if x>0 else a*(math.exp(x)-1)*0.01\n",
        "\n",
        "# Given\n",
        "def is_number ( n ) :\n",
        "  try :\n",
        "    float ( n ) # Type - casting the string to ‘float ‘.\n",
        "    # If string is not a valid ‘float ‘ ,\n",
        "    # it 'll raise ‘ValueError ‘ exception\n",
        "  except ValueError :\n",
        "    return False\n",
        "  return True\n",
        "\n",
        "def exercise2(x, act_name):\n",
        "  if act_name !='sigmoid' and act_name !='relu' and act_name !='elu':\n",
        "    return print(f'{act_name} use is not support')\n",
        "  try:\n",
        "    x = float(x)\n",
        "  except:\n",
        "    return print(f'{x} must be number')\n",
        "\n",
        "  if act_name == 'sigmoid':\n",
        "    return print(f'sigmoid f({x}):{sigmoid_func(x)}')\n",
        "  elif act_name == 'relu':\n",
        "    return  print(f'relu f({x}):{reLU_func(x)}')\n",
        "  elif act_name == 'elu':\n",
        "    return print(f'elu f({x}):{elu_func(x, a=0.01)}')\n",
        "  else:\n",
        "    return None\n"
      ],
      "metadata": {
        "colab": {
          "base_uri": "https://localhost:8080/"
        },
        "id": "cHKxOEjlx5RG",
        "outputId": "00b0295b-118e-427c-e821-6d311b45423d"
      },
      "execution_count": 22,
      "outputs": [
        {
          "output_type": "stream",
          "name": "stdout",
          "text": [
            "a must be number\n"
          ]
        }
      ]
    },
    {
      "cell_type": "code",
      "source": [
        "exercise2('a', 'relu')"
      ],
      "metadata": {
        "colab": {
          "base_uri": "https://localhost:8080/"
        },
        "id": "TfU67rE-2e_V",
        "outputId": "3ae6806d-132b-43c1-bb16-7cb4e9f5426d"
      },
      "execution_count": 23,
      "outputs": [
        {
          "output_type": "stream",
          "name": "stdout",
          "text": [
            "a must be number\n"
          ]
        }
      ]
    },
    {
      "cell_type": "markdown",
      "source": [
        "# 3. Viết function lựa chọn regression loss function để tính loss:"
      ],
      "metadata": {
        "id": "rK9pFKHr2gm3"
      }
    },
    {
      "cell_type": "code",
      "source": [
        "import numpy as np\n",
        "def MAE(y, y_hat):\n",
        "  n = len(y)\n",
        "  return np.sum(abs(y-y_hat))/n\n",
        "\n",
        "def MSE(y, y_hat):\n",
        "  n = len(y)\n",
        "  return np.sum((y-y_hat)**2)/n\n",
        "\n",
        "def RMSE(y, y_hat):\n",
        "  n = len(y)\n",
        "  return np.sum(np.sqrt((y-y_hat)**2/n))\n",
        "\n",
        "def exercise3(num_sample, loss_name):\n",
        "  if type(num_sample) != int:\n",
        "    return print(f'{num_sample} must be int')\n",
        "  if loss_name !='MAE' and loss_name !='MSE' and loss_name !='RMSE':\n",
        "    return print(f'{loss_name} use is not support')\n",
        "\n",
        "  else:\n",
        "    y = np.array([random.randint(0, 10) for i in range(num_sample)])\n",
        "    y_hat = np.array([random.randint(0, 10) for i in range(num_sample)])\n",
        "\n",
        "    if loss_name == 'MAE':\n",
        "      print(y)\n",
        "      return print(f'mae:{MAE(y, y_hat)}')\n",
        "    elif loss_name == 'MSE':\n",
        "      return  print(f'mse:{MSE(y, y_hat)}')\n",
        "    elif loss_name == 'RMSE':\n",
        "      return print(f'RMSE:{RMSE(y, y_hat)}')\n",
        "    else:\n",
        "      return None\n",
        "\n",
        "exercise3(0, 'RMSE')"
      ],
      "metadata": {
        "colab": {
          "base_uri": "https://localhost:8080/"
        },
        "id": "l8slXi7O2lV7",
        "outputId": "6aafadda-c93c-4306-a881-06aa7e07e6f9"
      },
      "execution_count": 53,
      "outputs": [
        {
          "output_type": "stream",
          "name": "stdout",
          "text": [
            "RMSE:0.0\n"
          ]
        }
      ]
    },
    {
      "cell_type": "code",
      "source": [
        "# 4. Viết 4 functions để ước lượng các hàm số sau.\n",
        "def fact(n):\n",
        "  fact = 1\n",
        "  for i in range(1, n+1):\n",
        "    fact = fact * i\n",
        "  return fact\n",
        "\n",
        "def approx_sin(x , n):\n",
        "  sin = 0\n",
        "  for i in range(n):\n",
        "    sin += ((-1)**i)*(x**(2*i+1))/(fact(2*i+1))\n",
        "  return sin\n",
        "\n",
        "def approx_cos(x , n):\n",
        "  cos = 0\n",
        "  for i in range(n):\n",
        "    cos += ((-1)**i)*(x**(2*i))/(fact(2*i))\n",
        "  return cos\n",
        "\n",
        "def approx_sinh(x , n):\n",
        "  sinh = 0\n",
        "  for i in range(n):\n",
        "    sinh += (x**(2*i+1))/(fact(2*i+1))\n",
        "  return sinh\n",
        "\n",
        "def approx_cosh(x , n):\n",
        "  cosh = 0\n",
        "  for i in range(n):\n",
        "    cosh += (x**(2*i))/(fact(2*i))\n",
        "  return cosh\n",
        "\n",
        "print(f'approx_sin:{approx_sin( x =3.14 , n =10) }')\n",
        "print(f'approx_cos:{approx_cos( x =3.14 , n =10)}')\n",
        "print(f'approx_sinh:{approx_sinh( x =3.14 , n =10)}')\n",
        "print(f'approx_cosh:{approx_cosh( x =3.14 , n =10)}')"
      ],
      "metadata": {
        "colab": {
          "base_uri": "https://localhost:8080/"
        },
        "id": "fyoqNH5G9zVu",
        "outputId": "3d37e9a4-6465-4a3e-9997-d762c33f78c6"
      },
      "execution_count": 77,
      "outputs": [
        {
          "output_type": "stream",
          "name": "stdout",
          "text": [
            "approx_sin:0.001592652393160744\n",
            "approx_cos:-0.9999987352210833\n",
            "approx_sinh:11.530292029865986\n",
            "approx_cosh:11.573574824666185\n"
          ]
        }
      ]
    },
    {
      "cell_type": "markdown",
      "source": [
        "# 5. Viết function thực hiện Mean Difference of n th Root Error:"
      ],
      "metadata": {
        "id": "Wx0GokMh-B4N"
      }
    },
    {
      "cell_type": "code",
      "source": [
        "import numpy as np"
      ],
      "metadata": {
        "id": "mUha3CHq4UBw"
      },
      "execution_count": 94,
      "outputs": []
    },
    {
      "cell_type": "code",
      "source": [
        "def md_nre_single_sample(y,y_hat,n,p, m=1):\n",
        "  return np.sum((y**(1/n)-y_hat**(1/n))**p)/m\n",
        "\n",
        "md_nre_single_sample( y =100 , y_hat =99.5 , n =2 , p =1)"
      ],
      "metadata": {
        "id": "GCMXKiFjh315",
        "colab": {
          "base_uri": "https://localhost:8080/"
        },
        "outputId": "fc071215-a919-49b8-fe69-e8d8e5259d8c"
      },
      "execution_count": 100,
      "outputs": [
        {
          "output_type": "execute_result",
          "data": {
            "text/plain": [
              "0.025031328369998107"
            ]
          },
          "metadata": {},
          "execution_count": 100
        }
      ]
    },
    {
      "cell_type": "markdown",
      "source": [
        "## II. Câu hỏi trắc nghiệm"
      ],
      "metadata": {
        "id": "VyE7dIhKB1np"
      }
    },
    {
      "cell_type": "code",
      "source": [
        "# Câu hỏi 1 :\n",
        "import math\n",
        "def calc_f1_score ( tp , fp , fn ) :\n",
        "# Your code here\n",
        "  return 2*TP/(2*TP+FP+FN)\n",
        "# End your code\n",
        "assert round ( calc_f1_score ( tp =2 , fp =3 , fn =5) , 2) == 0.33\n",
        "print ( round ( calc_f1_score ( tp =2 , fp =4 , fn =5) , 2) )\n",
        "\n",
        "#d) Raise an Error"
      ],
      "metadata": {
        "colab": {
          "base_uri": "https://localhost:8080/",
          "height": 193
        },
        "id": "OK_O_BvyCGNz",
        "outputId": "0dfd7ee4-20f1-4af2-d8f8-17ae4c522d1f"
      },
      "execution_count": 78,
      "outputs": [
        {
          "output_type": "error",
          "ename": "AssertionError",
          "evalue": "",
          "traceback": [
            "\u001b[0;31m---------------------------------------------------------------------------\u001b[0m",
            "\u001b[0;31mAssertionError\u001b[0m                            Traceback (most recent call last)",
            "\u001b[0;32m<ipython-input-78-e8e94532dada>\u001b[0m in \u001b[0;36m<cell line: 7>\u001b[0;34m()\u001b[0m\n\u001b[1;32m      5\u001b[0m   \u001b[0;32mreturn\u001b[0m \u001b[0;36m2\u001b[0m\u001b[0;34m*\u001b[0m\u001b[0mTP\u001b[0m\u001b[0;34m/\u001b[0m\u001b[0;34m(\u001b[0m\u001b[0;36m2\u001b[0m\u001b[0;34m*\u001b[0m\u001b[0mTP\u001b[0m\u001b[0;34m+\u001b[0m\u001b[0mFP\u001b[0m\u001b[0;34m+\u001b[0m\u001b[0mFN\u001b[0m\u001b[0;34m)\u001b[0m\u001b[0;34m\u001b[0m\u001b[0;34m\u001b[0m\u001b[0m\n\u001b[1;32m      6\u001b[0m \u001b[0;31m# End your code\u001b[0m\u001b[0;34m\u001b[0m\u001b[0;34m\u001b[0m\u001b[0m\n\u001b[0;32m----> 7\u001b[0;31m \u001b[0;32massert\u001b[0m \u001b[0mround\u001b[0m \u001b[0;34m(\u001b[0m \u001b[0mcalc_f1_score\u001b[0m \u001b[0;34m(\u001b[0m \u001b[0mtp\u001b[0m \u001b[0;34m=\u001b[0m\u001b[0;36m2\u001b[0m \u001b[0;34m,\u001b[0m \u001b[0mfp\u001b[0m \u001b[0;34m=\u001b[0m\u001b[0;36m3\u001b[0m \u001b[0;34m,\u001b[0m \u001b[0mfn\u001b[0m \u001b[0;34m=\u001b[0m\u001b[0;36m5\u001b[0m\u001b[0;34m)\u001b[0m \u001b[0;34m,\u001b[0m \u001b[0;36m2\u001b[0m\u001b[0;34m)\u001b[0m \u001b[0;34m==\u001b[0m \u001b[0;36m0.33\u001b[0m\u001b[0;34m\u001b[0m\u001b[0;34m\u001b[0m\u001b[0m\n\u001b[0m\u001b[1;32m      8\u001b[0m \u001b[0mprint\u001b[0m \u001b[0;34m(\u001b[0m \u001b[0mround\u001b[0m \u001b[0;34m(\u001b[0m \u001b[0mcalc_f1_score\u001b[0m \u001b[0;34m(\u001b[0m \u001b[0mtp\u001b[0m \u001b[0;34m=\u001b[0m\u001b[0;36m2\u001b[0m \u001b[0;34m,\u001b[0m \u001b[0mfp\u001b[0m \u001b[0;34m=\u001b[0m\u001b[0;36m4\u001b[0m \u001b[0;34m,\u001b[0m \u001b[0mfn\u001b[0m \u001b[0;34m=\u001b[0m\u001b[0;36m5\u001b[0m\u001b[0;34m)\u001b[0m \u001b[0;34m,\u001b[0m \u001b[0;36m2\u001b[0m\u001b[0;34m)\u001b[0m \u001b[0;34m)\u001b[0m\u001b[0;34m\u001b[0m\u001b[0;34m\u001b[0m\u001b[0m\n",
            "\u001b[0;31mAssertionError\u001b[0m: "
          ]
        }
      ]
    },
    {
      "cell_type": "code",
      "source": [
        "# Câu hỏi 2 :\n",
        "import math\n",
        "def is_number( n ) :\n",
        "# Your code here\n",
        "  try :\n",
        "    float ( n ) # Type - casting the string to ‘float ‘.\n",
        "    # If string is not a valid ‘float ‘ ,\n",
        "    # it 'll raise ‘ValueError ‘ exception\n",
        "  except ValueError :\n",
        "    return False\n",
        "  return True\n",
        "# End your code\n",
        "assert is_number (3) == 1.0\n",
        "assert is_number ('-2a') == 0.0\n",
        "print ( is_number (1) )\n",
        "print ( is_number ('n') )\n",
        "\n",
        "# b)\n",
        "# True\n",
        "# False"
      ],
      "metadata": {
        "colab": {
          "base_uri": "https://localhost:8080/"
        },
        "id": "vRKWgLQGCxGH",
        "outputId": "0ade0a0c-0a66-40a6-b26a-fb7f02bc9b8b"
      },
      "execution_count": 79,
      "outputs": [
        {
          "output_type": "stream",
          "name": "stdout",
          "text": [
            "True\n",
            "False\n"
          ]
        }
      ]
    },
    {
      "cell_type": "code",
      "source": [
        "# Câu hỏi 3 : c) ReLU"
      ],
      "metadata": {
        "id": "ifY50mKtDmPf"
      },
      "execution_count": null,
      "outputs": []
    },
    {
      "cell_type": "code",
      "source": [
        "# Câu hỏi 4 : a) 0.88\n",
        "import math\n",
        "def calc_sig ( x ) :\n",
        "# Your code here\n",
        "  return 1/(1+math.exp(-x))\n",
        "# End your code\n",
        "\n",
        "assert round ( calc_sig (3) , 2) ==0.95\n",
        "print ( round ( calc_sig (2) , 2) )"
      ],
      "metadata": {
        "id": "iIKRBgsdk7qq",
        "colab": {
          "base_uri": "https://localhost:8080/"
        },
        "outputId": "71a4c775-6cbd-4380-d5f6-778c2eb534e4"
      },
      "execution_count": 80,
      "outputs": [
        {
          "output_type": "stream",
          "name": "stdout",
          "text": [
            "0.88\n"
          ]
        }
      ]
    },
    {
      "cell_type": "code",
      "source": [
        "# Câu hỏi 5 : b) -0.01\n",
        "import math\n",
        "def calc_elu ( x ) :\n",
        "# Your code here\n",
        "  return x if x>0 else (math.exp(x)-1)*0.01\n",
        "# End your code\n",
        "assert round ( calc_elu (1) ) ==1\n",
        "print ( round ( calc_elu ( -1) , 2) )"
      ],
      "metadata": {
        "colab": {
          "base_uri": "https://localhost:8080/"
        },
        "id": "hpaf4O8ImOaR",
        "outputId": "50a9cf7a-fa45-48e9-c6d9-68d47d799ae8"
      },
      "execution_count": 83,
      "outputs": [
        {
          "output_type": "stream",
          "name": "stdout",
          "text": [
            "-0.01\n"
          ]
        }
      ]
    },
    {
      "cell_type": "code",
      "source": [
        "# Câu hỏi 6 : a) 0.95\n",
        "import math\n",
        "def calc_activation_func (x , act_name ) :\n",
        "  # Your code here\n",
        "  if act_name == 'sigmoid':\n",
        "    return 1/(1+math.exp(-x))\n",
        "  elif act_name == 'relu':\n",
        "    return x if x>0 else 0\n",
        "  # End your code\n",
        "assert calc_activation_func ( x = 1 , act_name ='relu') == 1\n",
        "print ( round ( calc_activation_func (x = 3 , act_name ='sigmoid') , 2) )"
      ],
      "metadata": {
        "colab": {
          "base_uri": "https://localhost:8080/"
        },
        "id": "b0cjBvxpv3lO",
        "outputId": "035b551d-2d79-413c-840e-5575e922e96f"
      },
      "execution_count": 84,
      "outputs": [
        {
          "output_type": "stream",
          "name": "stdout",
          "text": [
            "0.95\n"
          ]
        }
      ]
    },
    {
      "cell_type": "code",
      "source": [
        "# Câu hỏi 7 : a) 7\n",
        "def calc_ae (y , y_hat ) :\n",
        "  # Your code here\n",
        "  return abs(y-y_hat)\n",
        "  # End your code\n",
        "\n",
        "y = 1\n",
        "y_hat = 6\n",
        "assert calc_ae (y , y_hat ) ==5\n",
        "y = 2\n",
        "y_hat = 9\n",
        "print ( calc_ae (y , y_hat ) )"
      ],
      "metadata": {
        "colab": {
          "base_uri": "https://localhost:8080/"
        },
        "id": "PhJ2fnM3wK3_",
        "outputId": "65c34fb5-48e3-4be0-c7e0-7ade1d48661a"
      },
      "execution_count": 86,
      "outputs": [
        {
          "output_type": "stream",
          "name": "stdout",
          "text": [
            "7\n"
          ]
        }
      ]
    },
    {
      "cell_type": "code",
      "source": [
        "# Câu hỏi 8 : a) 1\n",
        "def calc_se (y , y_hat ) :\n",
        "# Your code here\n",
        "  return (y-y_hat)**2\n",
        "# End your code\n",
        "y = 4\n",
        "y_hat = 2\n",
        "assert calc_se (y , y_hat ) == 4\n",
        "print ( calc_se (2 , 1) )"
      ],
      "metadata": {
        "colab": {
          "base_uri": "https://localhost:8080/"
        },
        "id": "O7rLmZgTwQ0J",
        "outputId": "5ec67744-764f-4828-971e-0bee4eeb9804"
      },
      "execution_count": 87,
      "outputs": [
        {
          "output_type": "stream",
          "name": "stdout",
          "text": [
            "1\n"
          ]
        }
      ]
    },
    {
      "cell_type": "code",
      "source": [
        "# Câu hỏi 9 b) 1\n",
        "def approx_cos (x , n ) :\n",
        "# Your code here\n",
        "  return sum([(-1)**i * x**(2*i)/math.factorial(2*i) for i in range(n)])\n",
        "# End your code\n",
        "\n",
        "assert round ( approx_cos ( x =1 , n =10) , 2) ==0.54\n",
        "print ( round ( approx_cos ( x =3.14 , n =10) , 2) )"
      ],
      "metadata": {
        "colab": {
          "base_uri": "https://localhost:8080/"
        },
        "id": "ngpuMMF0ww33",
        "outputId": "d2aa5c32-882c-4983-bcc3-9cced0b35764"
      },
      "execution_count": 88,
      "outputs": [
        {
          "output_type": "stream",
          "name": "stdout",
          "text": [
            "-1.0\n"
          ]
        }
      ]
    },
    {
      "cell_type": "code",
      "source": [
        "# Câu hỏi 10 : a) 0.0016\n",
        "def approx_sin (x , n ) :\n",
        " # Your code here\n",
        "  return sum([(-1)**i * x**(2*i+1)/math.factorial(2*i+1) for i in range(n)])\n",
        " # End your code\n",
        "\n",
        "assert round ( approx_sin ( x =1 , n =10) , 4) ==0.8415\n",
        "print ( round ( approx_sin ( x =3.14 , n =10) , 4) )"
      ],
      "metadata": {
        "colab": {
          "base_uri": "https://localhost:8080/"
        },
        "id": "rWTiyt-yw9xG",
        "outputId": "3b1c7889-a7bb-4798-ec72-da0d2de94d05"
      },
      "execution_count": 89,
      "outputs": [
        {
          "output_type": "stream",
          "name": "stdout",
          "text": [
            "0.0016\n"
          ]
        }
      ]
    },
    {
      "cell_type": "code",
      "source": [
        "# Câu hỏi 11 :d) Raise an Error\n",
        "def approx_sinh (x , n ) :\n",
        "# Your code here\n",
        "  return sum([(-1)**i * x**(2*i+1)/math.factorial(2*i+1) for i in range(n)])\n",
        "# End your code\n",
        "assert round ( approx_sinh ( x =1 , n =10) , 2) ==1.18\n",
        "print ( round ( approx_sinh ( x =3.14 , n =10) , 2) )"
      ],
      "metadata": {
        "colab": {
          "base_uri": "https://localhost:8080/",
          "height": 193
        },
        "id": "mr-So8t_xIJb",
        "outputId": "1b690b9f-2193-4b60-9c3d-7c35ab643bbf"
      },
      "execution_count": 90,
      "outputs": [
        {
          "output_type": "error",
          "ename": "AssertionError",
          "evalue": "",
          "traceback": [
            "\u001b[0;31m---------------------------------------------------------------------------\u001b[0m",
            "\u001b[0;31mAssertionError\u001b[0m                            Traceback (most recent call last)",
            "\u001b[0;32m<ipython-input-90-f028e1f99c44>\u001b[0m in \u001b[0;36m<cell line: 6>\u001b[0;34m()\u001b[0m\n\u001b[1;32m      4\u001b[0m   \u001b[0;32mreturn\u001b[0m \u001b[0msum\u001b[0m\u001b[0;34m(\u001b[0m\u001b[0;34m[\u001b[0m\u001b[0;34m(\u001b[0m\u001b[0;34m-\u001b[0m\u001b[0;36m1\u001b[0m\u001b[0;34m)\u001b[0m\u001b[0;34m**\u001b[0m\u001b[0mi\u001b[0m \u001b[0;34m*\u001b[0m \u001b[0mx\u001b[0m\u001b[0;34m**\u001b[0m\u001b[0;34m(\u001b[0m\u001b[0;36m2\u001b[0m\u001b[0;34m*\u001b[0m\u001b[0mi\u001b[0m\u001b[0;34m+\u001b[0m\u001b[0;36m1\u001b[0m\u001b[0;34m)\u001b[0m\u001b[0;34m/\u001b[0m\u001b[0mmath\u001b[0m\u001b[0;34m.\u001b[0m\u001b[0mfactorial\u001b[0m\u001b[0;34m(\u001b[0m\u001b[0;36m2\u001b[0m\u001b[0;34m*\u001b[0m\u001b[0mi\u001b[0m\u001b[0;34m+\u001b[0m\u001b[0;36m1\u001b[0m\u001b[0;34m)\u001b[0m \u001b[0;32mfor\u001b[0m \u001b[0mi\u001b[0m \u001b[0;32min\u001b[0m \u001b[0mrange\u001b[0m\u001b[0;34m(\u001b[0m\u001b[0mn\u001b[0m\u001b[0;34m)\u001b[0m\u001b[0;34m]\u001b[0m\u001b[0;34m)\u001b[0m\u001b[0;34m\u001b[0m\u001b[0;34m\u001b[0m\u001b[0m\n\u001b[1;32m      5\u001b[0m \u001b[0;31m# End your code\u001b[0m\u001b[0;34m\u001b[0m\u001b[0;34m\u001b[0m\u001b[0m\n\u001b[0;32m----> 6\u001b[0;31m \u001b[0;32massert\u001b[0m \u001b[0mround\u001b[0m \u001b[0;34m(\u001b[0m \u001b[0mapprox_sinh\u001b[0m \u001b[0;34m(\u001b[0m \u001b[0mx\u001b[0m \u001b[0;34m=\u001b[0m\u001b[0;36m1\u001b[0m \u001b[0;34m,\u001b[0m \u001b[0mn\u001b[0m \u001b[0;34m=\u001b[0m\u001b[0;36m10\u001b[0m\u001b[0;34m)\u001b[0m \u001b[0;34m,\u001b[0m \u001b[0;36m2\u001b[0m\u001b[0;34m)\u001b[0m \u001b[0;34m==\u001b[0m\u001b[0;36m1.18\u001b[0m\u001b[0;34m\u001b[0m\u001b[0;34m\u001b[0m\u001b[0m\n\u001b[0m\u001b[1;32m      7\u001b[0m \u001b[0mprint\u001b[0m \u001b[0;34m(\u001b[0m \u001b[0mround\u001b[0m \u001b[0;34m(\u001b[0m \u001b[0mapprox_sinh\u001b[0m \u001b[0;34m(\u001b[0m \u001b[0mx\u001b[0m \u001b[0;34m=\u001b[0m\u001b[0;36m3.14\u001b[0m \u001b[0;34m,\u001b[0m \u001b[0mn\u001b[0m \u001b[0;34m=\u001b[0m\u001b[0;36m10\u001b[0m\u001b[0;34m)\u001b[0m \u001b[0;34m,\u001b[0m \u001b[0;36m2\u001b[0m\u001b[0;34m)\u001b[0m \u001b[0;34m)\u001b[0m\u001b[0;34m\u001b[0m\u001b[0;34m\u001b[0m\u001b[0m\n",
            "\u001b[0;31mAssertionError\u001b[0m: "
          ]
        }
      ]
    },
    {
      "cell_type": "code",
      "source": [
        "# Câu hỏi 12 : d\n",
        "def approx_cosh (x , n ) :\n",
        " # Your code here\n",
        "  return sum([(-1)**i * x**(2*i)/math.factorial(2*i) for i in range(n)])\n",
        "# End your code\n",
        "assert round ( approx_cosh ( x =1 , n =10) , 2) ==1.54\n",
        "print ( round ( approx_cosh ( x =3.14 , n =10) , 2) )"
      ],
      "metadata": {
        "id": "8FvT_KXMxRqb",
        "colab": {
          "base_uri": "https://localhost:8080/",
          "height": 193
        },
        "outputId": "5ab0c2de-88a8-412b-89a5-a3764f77c025"
      },
      "execution_count": 92,
      "outputs": [
        {
          "output_type": "error",
          "ename": "AssertionError",
          "evalue": "",
          "traceback": [
            "\u001b[0;31m---------------------------------------------------------------------------\u001b[0m",
            "\u001b[0;31mAssertionError\u001b[0m                            Traceback (most recent call last)",
            "\u001b[0;32m<ipython-input-92-05fb269d0731>\u001b[0m in \u001b[0;36m<cell line: 6>\u001b[0;34m()\u001b[0m\n\u001b[1;32m      4\u001b[0m   \u001b[0;32mreturn\u001b[0m \u001b[0msum\u001b[0m\u001b[0;34m(\u001b[0m\u001b[0;34m[\u001b[0m\u001b[0;34m(\u001b[0m\u001b[0;34m-\u001b[0m\u001b[0;36m1\u001b[0m\u001b[0;34m)\u001b[0m\u001b[0;34m**\u001b[0m\u001b[0mi\u001b[0m \u001b[0;34m*\u001b[0m \u001b[0mx\u001b[0m\u001b[0;34m**\u001b[0m\u001b[0;34m(\u001b[0m\u001b[0;36m2\u001b[0m\u001b[0;34m*\u001b[0m\u001b[0mi\u001b[0m\u001b[0;34m)\u001b[0m\u001b[0;34m/\u001b[0m\u001b[0mmath\u001b[0m\u001b[0;34m.\u001b[0m\u001b[0mfactorial\u001b[0m\u001b[0;34m(\u001b[0m\u001b[0;36m2\u001b[0m\u001b[0;34m*\u001b[0m\u001b[0mi\u001b[0m\u001b[0;34m)\u001b[0m \u001b[0;32mfor\u001b[0m \u001b[0mi\u001b[0m \u001b[0;32min\u001b[0m \u001b[0mrange\u001b[0m\u001b[0;34m(\u001b[0m\u001b[0mn\u001b[0m\u001b[0;34m)\u001b[0m\u001b[0;34m]\u001b[0m\u001b[0;34m)\u001b[0m\u001b[0;34m\u001b[0m\u001b[0;34m\u001b[0m\u001b[0m\n\u001b[1;32m      5\u001b[0m \u001b[0;31m# End your code\u001b[0m\u001b[0;34m\u001b[0m\u001b[0;34m\u001b[0m\u001b[0m\n\u001b[0;32m----> 6\u001b[0;31m \u001b[0;32massert\u001b[0m \u001b[0mround\u001b[0m \u001b[0;34m(\u001b[0m \u001b[0mapprox_cosh\u001b[0m \u001b[0;34m(\u001b[0m \u001b[0mx\u001b[0m \u001b[0;34m=\u001b[0m\u001b[0;36m1\u001b[0m \u001b[0;34m,\u001b[0m \u001b[0mn\u001b[0m \u001b[0;34m=\u001b[0m\u001b[0;36m10\u001b[0m\u001b[0;34m)\u001b[0m \u001b[0;34m,\u001b[0m \u001b[0;36m2\u001b[0m\u001b[0;34m)\u001b[0m \u001b[0;34m==\u001b[0m\u001b[0;36m1.54\u001b[0m\u001b[0;34m\u001b[0m\u001b[0;34m\u001b[0m\u001b[0m\n\u001b[0m\u001b[1;32m      7\u001b[0m \u001b[0mprint\u001b[0m \u001b[0;34m(\u001b[0m \u001b[0mround\u001b[0m \u001b[0;34m(\u001b[0m \u001b[0mapprox_cosh\u001b[0m \u001b[0;34m(\u001b[0m \u001b[0mx\u001b[0m \u001b[0;34m=\u001b[0m\u001b[0;36m3.14\u001b[0m \u001b[0;34m,\u001b[0m \u001b[0mn\u001b[0m \u001b[0;34m=\u001b[0m\u001b[0;36m10\u001b[0m\u001b[0;34m)\u001b[0m \u001b[0;34m,\u001b[0m \u001b[0;36m2\u001b[0m\u001b[0;34m)\u001b[0m \u001b[0;34m)\u001b[0m\u001b[0;34m\u001b[0m\u001b[0;34m\u001b[0m\u001b[0m\n",
            "\u001b[0;31mAssertionError\u001b[0m: "
          ]
        }
      ]
    },
    {
      "cell_type": "code",
      "source": [
        "\"1a, 2b, 3c,4a,5b,6a,7a,8a,9c,10a,11d,12d,13a\""
      ],
      "metadata": {
        "id": "j9VYB1l4yrJR"
      },
      "execution_count": null,
      "outputs": []
    }
  ]
}